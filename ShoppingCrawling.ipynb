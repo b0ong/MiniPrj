{
 "cells": [
  {
   "metadata": {},
   "cell_type": "markdown",
   "source": [
    "## 미니 프로젝트\n",
    "\n",
    "### 네이버 쇼핑몰 크롤링\n",
    "\n",
    "#### 검색에 사용될 URL\n",
    "    - https://search.shopping.naver.com/search/all?query=%EC%8D%AC%EB%8D%94%EB%B3%BC%ED%8A%B8%20%EB%8F%85\n"
   ],
   "id": "68bb4749f3958eef"
  },
  {
   "metadata": {
    "ExecuteTime": {
     "end_time": "2024-04-12T00:37:43.001078Z",
     "start_time": "2024-04-12T00:37:42.997624Z"
    }
   },
   "cell_type": "code",
   "source": [
    "# 필수 라이브러리 사용등록\n",
    "from selenium import webdriver\n",
    "from bs4 import BeautifulSoup\n",
    "import pandas as pd\n",
    "from urllib import parse\n",
    "from tqdm import tqdm\n",
    "import time"
   ],
   "id": "b765d5d24a8e1482",
   "outputs": [],
   "execution_count": 7
  },
  {
   "metadata": {
    "ExecuteTime": {
     "end_time": "2024-04-12T02:45:00.379507Z",
     "start_time": "2024-04-12T02:44:53.712608Z"
    }
   },
   "cell_type": "code",
   "source": [
    "# 크롬 오픈\n",
    "driver = webdriver.Chrome()\n",
    "url = r'https://search.danawa.com/dsearch.php?query=%EC%8D%AC%EB%8D%94%EB%B3%BC%ED%8A%B8%EB%8F%85&tab=main'\n",
    "driver.get(url)\n",
    "time.sleep(5)"
   ],
   "id": "33152a353683d399",
   "outputs": [],
   "execution_count": 68
  },
  {
   "metadata": {
    "ExecuteTime": {
     "end_time": "2024-04-12T02:40:22.895649Z",
     "start_time": "2024-04-12T02:40:22.592356Z"
    }
   },
   "cell_type": "code",
   "source": [
    "html = driver.page_source\n",
    "soup = BeautifulSoup(html, 'html.parser')"
   ],
   "id": "42b47036855adc2c",
   "outputs": [],
   "execution_count": 54
  },
  {
   "metadata": {
    "ExecuteTime": {
     "end_time": "2024-04-12T02:40:30.556308Z",
     "start_time": "2024-04-12T02:40:30.515273Z"
    }
   },
   "cell_type": "code",
   "source": "prodItems = soup.select('ul.product_list > li.prod_item')",
   "id": "511ececa73abbe87",
   "outputs": [],
   "execution_count": 55
  },
  {
   "metadata": {
    "ExecuteTime": {
     "end_time": "2024-04-12T02:40:32.733467Z",
     "start_time": "2024-04-12T02:40:32.724265Z"
    }
   },
   "cell_type": "code",
   "source": [
    "# 제품명 가져오기\n",
    "prodItems[0].select('p.prod_name')[0].text.strip()"
   ],
   "id": "2c7f8fdef47516e4",
   "outputs": [
    {
     "data": {
      "text/plain": [
       "'벨킨 INC006qcSGY (12포트/썬더볼트4 Type C)'"
      ]
     },
     "execution_count": 56,
     "metadata": {},
     "output_type": "execute_result"
    }
   ],
   "execution_count": 56
  },
  {
   "metadata": {
    "ExecuteTime": {
     "end_time": "2024-04-12T02:40:35.644506Z",
     "start_time": "2024-04-12T02:40:35.639515Z"
    }
   },
   "cell_type": "code",
   "source": [
    "# 제품 스펙가져오기\n",
    "prodItems[0].select('div.spec_list')[0].text.strip().replace('\\t','')"
   ],
   "id": "3053b1ae29c44b1f",
   "outputs": [
    {
     "data": {
      "text/plain": [
       "'도킹스테이션 / 12포트 / 썬더볼트4 / PC연결 단자: Type C / 케이블분리형 / 0.8m / 외부전원겸용 / 어댑터포함 / 전원단자: DC / HOST동시충전 / USB PD / HOST충전: 90W / [허브기능] USB허브 수: 6포트 / 20W / 지원속도: USB 3.1, USB 2.0, 썬더볼트4 / USB확장단자: USB C타입, USB A타입 / [멀티컨버터] 멀티컨버터: 5포트 / 멀티단자: HDMI, 스테레오3.5mm, 이더넷(기가비트), SD / HDMI2.0 / 8K / 화면확장 / 화면복제'"
      ]
     },
     "execution_count": 57,
     "metadata": {},
     "output_type": "execute_result"
    }
   ],
   "execution_count": 57
  },
  {
   "metadata": {
    "ExecuteTime": {
     "end_time": "2024-04-12T02:40:38.443794Z",
     "start_time": "2024-04-12T02:40:38.439457Z"
    }
   },
   "cell_type": "code",
   "source": [
    "# 제품 가격가져오기\n",
    "prodItems[0].select('input')[1].get('value')"
   ],
   "id": "27b37d765c498b80",
   "outputs": [
    {
     "data": {
      "text/plain": [
       "'499000'"
      ]
     },
     "execution_count": 58,
     "metadata": {},
     "output_type": "execute_result"
    }
   ],
   "execution_count": 58
  },
  {
   "metadata": {
    "ExecuteTime": {
     "end_time": "2024-04-12T02:40:41.557574Z",
     "start_time": "2024-04-12T02:40:41.554209Z"
    }
   },
   "cell_type": "code",
   "source": [
    "def getProdItems(prodItems):\n",
    "    \n",
    "    prodData = []\n",
    "    \n",
    "    for prodItem in prodItems:\n",
    "        try:\n",
    "            prodName = prodItem.select('p.prod_name > a')[0].text.strip()\n",
    "            price = prodItem.select('input')[1].get('value')\n",
    "            prodData.append([prodName,price])\n",
    "        except:\n",
    "            pass\n",
    "        \n",
    "    return prodData"
   ],
   "id": "caeb55228f5b006c",
   "outputs": [],
   "execution_count": 59
  },
  {
   "metadata": {},
   "cell_type": "markdown",
   "source": [
    "#### 여러페이지 크롤링\n",
    "    - URL\n",
    "        - https://search.danawa.com/dsearch.php?query=%EC%8D%AC%EB%8D%94%EB%B3%BC%ED%8A%B8%EB%8F%85&originalQuery=%EC%8D%AC%EB%8D%94%EB%B3%BC%ED%8A%B8%EB%8F%85&checkedInfo=N&volumeType=allvs&\n",
    "        page=5&limit=120&sort=saveDESC&list=list&boost=true&tab=goods&addDelivery=N&coupangMemberSort=N&mode=simple&isInitTireSmartFinder=N&\n",
    "        recommendedSort=N&defaultUICategoryCode=11239702&defaultPhysicsCategoryCode=862%7C886%7C1035%7C0&defaultVmTab=70&defaultVaTab=22445&isZeroPrice=Y&\n",
    "        quickProductYN=N&priceUnitSort=N&priceUnitSortOrder=A"
   ],
   "id": "168dea86b8b2d576"
  },
  {
   "metadata": {
    "ExecuteTime": {
     "end_time": "2024-04-12T02:54:04.977549Z",
     "start_time": "2024-04-12T02:54:04.974705Z"
    }
   },
   "cell_type": "code",
   "source": [
    "def getSearchPageUrl(keyword, page):\n",
    "        ecKeyword = parse.quote(keyword)\n",
    "        url = f'https://search.danawa.com/dsearch.php?query={ecKeyword}&originalQuery={ecKeyword}&checkedInfo=N&volumeType=allvs&' + \\\n",
    "              f'page={page}&limit=120&sort=saveDESC&list=list&boost=true&tab=goods&addDelivery=N&coupangMemberSort=N&mode=simple&isInitTireSmartFinder=N&recommendedSort=N&' + \\\n",
    "              'defaultUICategoryCode=11239702&defaultPhysicsCategoryCode=862%7C886%7C1035%7C0&defaultVmTab=70&defaultVaTab=22445&isZeroPrice=Y&' + \\\n",
    "              'quickProductYN=N&priceUnitSort=N&priceUnitSortOrder=A'\n",
    "        return url  "
   ],
   "id": "79fd55ba5ecd130f",
   "outputs": [],
   "execution_count": 78
  },
  {
   "metadata": {
    "ExecuteTime": {
     "end_time": "2024-04-12T03:00:38.088836Z",
     "start_time": "2024-04-12T03:00:38.083907Z"
    }
   },
   "cell_type": "code",
   "source": [
    "def getProdItems(prodItems):\n",
    "    prodData = []\n",
    "    \n",
    "    for prodItem in prodItems:\n",
    "        try:\n",
    "            prodName = prodItem.select('p.prod_name > a')[0].text.strip()\n",
    "            price = prodItem.select('input')[1].get('value')\n",
    "            prodData.append([prodName,price])\n",
    "        except:\n",
    "            pass\n",
    "    \n",
    "    return prodData"
   ],
   "id": "9c2885c424c339bf",
   "outputs": [],
   "execution_count": 83
  },
  {
   "metadata": {
    "ExecuteTime": {
     "end_time": "2024-04-12T02:54:23.818190Z",
     "start_time": "2024-04-12T02:54:13.759810Z"
    }
   },
   "cell_type": "code",
   "source": [
    "total_page = 10\n",
    "\n",
    "for page in tqdm(range(1, total_page+1)):\n",
    "    time.sleep(1)"
   ],
   "id": "dbcf502ad78f3585",
   "outputs": [
    {
     "name": "stderr",
     "output_type": "stream",
     "text": [
      "100%|██████████| 10/10 [00:10<00:00,  1.01s/it]\n"
     ]
    }
   ],
   "execution_count": 80
  },
  {
   "metadata": {
    "ExecuteTime": {
     "end_time": "2024-04-12T02:59:46.021061Z",
     "start_time": "2024-04-12T02:59:45.274761Z"
    }
   },
   "cell_type": "code",
   "source": [
    "driver = webdriver.Chrome()\n",
    "driver.implicitly_wait(3.0)\n",
    "\n",
    "keyword = '썬더볼드독'\n",
    "totalPage = 20\n",
    "prodDataTotal = []\n",
    "\n",
    "for page in tqdm(range(11, total_page+1)):\n",
    "    url = getSearchPageUrl(keyword, page)\n",
    "    driver.get(url)\n",
    "    time.sleep(5)\n",
    "\n",
    "    html = driver.page_source\n",
    "    soup = BeautifulSoup(html, \"html.parser\")\n",
    "\n",
    "    prodItems = soup.select('ul.product_list > li.prod_item')\n",
    "    prodItemList = getProdItems(prodItems)\n",
    "\n",
    "    prodDataTotal += prodItemList"
   ],
   "id": "52f7dd5ca30ed1d0",
   "outputs": [
    {
     "name": "stderr",
     "output_type": "stream",
     "text": [
      "0it [00:00, ?it/s]\n"
     ]
    }
   ],
   "execution_count": 82
  }
 ],
 "metadata": {
  "kernelspec": {
   "display_name": "Python 3",
   "language": "python",
   "name": "python3"
  },
  "language_info": {
   "codemirror_mode": {
    "name": "ipython",
    "version": 2
   },
   "file_extension": ".py",
   "mimetype": "text/x-python",
   "name": "python",
   "nbconvert_exporter": "python",
   "pygments_lexer": "ipython2",
   "version": "2.7.6"
  }
 },
 "nbformat": 4,
 "nbformat_minor": 5
}
